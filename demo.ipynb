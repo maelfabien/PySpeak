{
 "cells": [
  {
   "cell_type": "markdown",
   "metadata": {},
   "source": [
    "# Speaker Verification (GMM-UBM) with PySpeak"
   ]
  },
  {
   "cell_type": "markdown",
   "metadata": {},
   "source": [
    "Steps:\n",
    "- place the training data, with 1 folder per speaker in data/enrollment and data/test\n",
    "- all files should be WAV\n",
    "- place a bunch of WAV files in the data/ubm folder but Universal Background Model traing\n",
    "- run this notebook step by step"
   ]
  },
  {
   "cell_type": "markdown",
   "metadata": {},
   "source": [
    "## Initialize"
   ]
  },
  {
   "cell_type": "code",
   "execution_count": 1,
   "metadata": {},
   "outputs": [],
   "source": [
    "from pyspeak import GMM_UBM"
   ]
  },
  {
   "cell_type": "code",
   "execution_count": 2,
   "metadata": {},
   "outputs": [
    {
     "name": "stdout",
     "output_type": "stream",
     "text": [
      "Number of UBM files:  1104\n",
      "Number of enrollment speakers:  7\n",
      "Number of test files:  7\n"
     ]
    }
   ],
   "source": [
    "sv = GMM_UBM()"
   ]
  },
  {
   "cell_type": "markdown",
   "metadata": {},
   "source": [
    "## UBM feature extraction and GMM training"
   ]
  },
  {
   "cell_type": "code",
   "execution_count": 4,
   "metadata": {},
   "outputs": [
    {
     "name": "stdout",
     "output_type": "stream",
     "text": [
      "Extracting UBM MFCCs...\n",
      "Done\n",
      "Training UBM...\n",
      "UBM model fitted\n"
     ]
    }
   ],
   "source": [
    "sv.extract_ubm_mfcc()\n",
    "sv.ubm_model()"
   ]
  },
  {
   "cell_type": "markdown",
   "metadata": {},
   "source": [
    "## Enrollment feature extraction and GMM training"
   ]
  },
  {
   "cell_type": "code",
   "execution_count": 5,
   "metadata": {},
   "outputs": [
    {
     "name": "stdout",
     "output_type": "stream",
     "text": [
      "Extracting Enrollment MFCCs...\n",
      "Done\n",
      "Enrollment Speaker Models fitted\n"
     ]
    }
   ],
   "source": [
    "sv.extract_enroll_mfcc()\n",
    "sv.enroll_model()"
   ]
  },
  {
   "cell_type": "markdown",
   "metadata": {},
   "source": [
    "## Test feature extraction"
   ]
  },
  {
   "cell_type": "code",
   "execution_count": 6,
   "metadata": {},
   "outputs": [
    {
     "name": "stdout",
     "output_type": "stream",
     "text": [
      "Extracting Test MFCCs...\n",
      "Done\n"
     ]
    }
   ],
   "source": [
    "sv.extract_test_mfcc()"
   ]
  },
  {
   "cell_type": "markdown",
   "metadata": {},
   "source": [
    "## Prediction on test"
   ]
  },
  {
   "cell_type": "code",
   "execution_count": 3,
   "metadata": {},
   "outputs": [
    {
     "data": {
      "text/plain": [
       "{'nick': ['grissom', 0.044875176847220644],\n",
       " 'sara': ['grissom', -0.2530511293256126],\n",
       " 'grissom': ['grissom', 0.23440926874830836],\n",
       " 'warrick': ['warrick', 0.12324863800843744],\n",
       " 'brass': ['grissom', 0.1267422828336109],\n",
       " 'tinacollins': ['grissom', -0.01997165434105952],\n",
       " 'catherine': ['grissom', -0.11561561579297575]}"
      ]
     },
     "execution_count": 3,
     "metadata": {},
     "output_type": "execute_result"
    }
   ],
   "source": [
    "sv.predict()"
   ]
  },
  {
   "cell_type": "code",
   "execution_count": null,
   "metadata": {},
   "outputs": [],
   "source": []
  }
 ],
 "metadata": {
  "kernelspec": {
   "display_name": "Python 3",
   "language": "python",
   "name": "python3"
  },
  "language_info": {
   "codemirror_mode": {
    "name": "ipython",
    "version": 3
   },
   "file_extension": ".py",
   "mimetype": "text/x-python",
   "name": "python",
   "nbconvert_exporter": "python",
   "pygments_lexer": "ipython3",
   "version": "3.7.3"
  }
 },
 "nbformat": 4,
 "nbformat_minor": 2
}
